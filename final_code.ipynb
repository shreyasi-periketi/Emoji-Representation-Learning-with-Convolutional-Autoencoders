{
  "nbformat": 4,
  "nbformat_minor": 0,
  "metadata": {
    "colab": {
      "provenance": []
    },
    "kernelspec": {
      "name": "python3",
      "display_name": "Python 3"
    },
    "language_info": {
      "name": "python"
    }
  },
  "cells": [
    {
      "cell_type": "markdown",
      "source": [
        "##Team 10\n",
        "\n",
        "\n",
        "* Shravan Srinivasan\n",
        "* Karan Singh Garkel\n",
        "* Shreyasi Periketi\n",
        "* Dev Ambani\n",
        "\n"
      ],
      "metadata": {
        "id": "pba-e_08I0k2"
      }
    },
    {
      "cell_type": "markdown",
      "source": [
        "##Question 1:\n",
        "\n",
        "(5.0points) Implement and train your autoencoder on the subset of the Emoji dataset that you selected and augmented:\n",
        "\n",
        "a. describe your dataset and the steps that you used to create it,\n",
        "\n",
        "b. provide a summary of your architecture (see Adversarial Examples Notebook)\n",
        "\n",
        "c. discuss and explain your design choices,\n",
        "\n",
        "d. list hyper-parameters used in the model,\n",
        "\n",
        "e. plot learning curves for training and validation loss as a function of training epochs,\n",
        "\n",
        "f. provide the final average error of your autoencoder on your test set, and\n",
        "\n",
        "g. discuss any decisions or observations that you find relevant.\n",
        "\n",
        "\n",
        "##Answer:\n",
        "\n",
        "**a. Description of Dataset and Creation Steps:**\n",
        "\n",
        "The dataset used is a subset of the Emoji dataset, filtered based on the presence of the keyword \"face\" in the text column. The dataset is loaded from a Parquet file using PyArrow (pq.read_table) and converted to a pandas DataFrame. Custom dataset classes are defined to handle data loading and transformations.\n",
        "\n",
        "Images are loaded from byte data stored in the DataFrame and transformed using transforms.Resize and transforms.ToTensor. The dataset is split into training, validation, and test sets using random_split from PyTorch.\n",
        "\n",
        "\n",
        "**b. Summary of Autoencoder Architecture:**\n",
        "\n",
        "The autoencoder architecture consists of an encoder and a decoder.\n",
        "The encoder comprises three convolutional layers with ReLU activation functions, downsampling the input image. The decoder consists of three transposed convolutional layers with ReLU activation functions, upsampling the encoded image back to its original size. The final layer of the decoder uses sigmoid activation to ensure output pixel values are in the range [0, 1].\n",
        "\n",
        "\n",
        "**c. Design Choices:**\n",
        "\n",
        "Convolutional layers are chosen for both the encoder and decoder to capture spatial features efficiently. ReLU activation functions are used to introduce non-linearity and accelerate convergence during training. Transposed convolutional layers are used in the decoder to perform upsampling.\n",
        "A sigmoid activation function is applied to the output layer to ensure pixel values are within a valid range for image reconstruction.\n",
        "\n",
        "\n",
        "**d. Hyperparameters:**\n",
        "\n",
        "* Batch size: 64\n",
        "* Learning rate: 0.001\n",
        "* Number of epochs: 100\n",
        "* Input image size: 64x64 pixels\n",
        "* Number of additional samples generated for data augmentation: 500 for training, 200 for validation and test sets\n",
        "\n",
        "\n",
        "**e. Plot of Learning Curves:**\n",
        "\n",
        "Learning curves for both training and validation loss are plotted as a function of training epochs. These curves provide information about the model's convergence and generalization performance over time.\n",
        "\n",
        "\n",
        "**f. Final Average Error on Test Set:**\n",
        "\n",
        "The final average error of the autoencoder on the test set is reported as 0.0049.\n",
        "\n",
        "\n",
        "**g. Observations and Decisions:**\n",
        "\n",
        "Data augmentation techniques such as random horizontal flips, rotations, and color jittering are used to increase the diversity of the training data and improve the model's robustness.\n",
        "\n",
        "The autoencoder model demonstrates good convergence behavior, as evidenced by the decreasing trend in both training and validation loss throughout the training process.\n",
        "\n",
        "The test loss indicates the performance of the trained autoencoder on unseen data, providing a measure of its generalization capability."
      ],
      "metadata": {
        "id": "T24ajinYQsTc"
      }
    },
    {
      "cell_type": "code",
      "execution_count": null,
      "metadata": {
        "id": "adupDXb2R1aH"
      },
      "outputs": [],
      "source": [
        "import torch\n",
        "import torch.nn as nn\n",
        "import torch.optim as optim\n",
        "from torch.utils.data import DataLoader, random_split\n",
        "from torchvision import transforms\n",
        "from PIL import Image\n",
        "import io\n",
        "import pyarrow.parquet as pq\n",
        "import pandas as pd\n",
        "import matplotlib.pyplot as plt\n"
      ]
    },
    {
      "cell_type": "code",
      "source": [
        "class Autoencoder(nn.Module):\n",
        "    def __init__(self):\n",
        "        super(Autoencoder, self).__init__()\n",
        "        self.encoder = nn.Sequential(\n",
        "            nn.Conv2d(3, 16, 3, stride=2, padding=1),  # Convolutional layer 1\n",
        "            nn.ReLU(),\n",
        "            nn.Conv2d(16, 32, 3, stride=2, padding=1),  # Convolutional layer 2\n",
        "            nn.ReLU(),\n",
        "            nn.Conv2d(32, 64, 3, stride=2, padding=1),  # Convolutional layer 3\n",
        "            nn.ReLU()\n",
        "        )\n",
        "        self.decoder = nn.Sequential(\n",
        "            nn.ConvTranspose2d(64, 32, 3, stride=2, padding=1, output_padding=1),  # Transposed convolutional layer 1\n",
        "            nn.ReLU(),\n",
        "            nn.ConvTranspose2d(32, 16, 3, stride=2, padding=1, output_padding=1),  # Transposed convolutional layer 2\n",
        "            nn.ReLU(),\n",
        "            nn.ConvTranspose2d(16, 3, 3, stride=2, padding=1, output_padding=1),  # Transposed convolutional layer 3\n",
        "            nn.Sigmoid()\n",
        "        )\n",
        "\n",
        "    def forward(self, x):\n",
        "        x = self.encoder(x)\n",
        "        x = self.decoder(x)\n",
        "        return x\n",
        "\n",
        "# Define hyperparameters\n",
        "batch_size = 64\n",
        "learning_rate = 0.001\n",
        "num_epochs = 100\n"
      ],
      "metadata": {
        "id": "Ljj4qv_gSAVo"
      },
      "execution_count": null,
      "outputs": []
    },
    {
      "cell_type": "code",
      "source": [
        "# Load the dataset from Parquet file\n",
        "parquet_file = \"/content/0000.parquet\"\n",
        "table = pq.read_table(parquet_file)\n",
        "df = table.to_pandas()\n",
        "\n",
        "# Define transforms\n",
        "transform = transforms.Compose([\n",
        "    transforms.Resize((64, 64)),\n",
        "    transforms.ToTensor()\n",
        "])\n",
        "\n",
        "# Define custom dataset class\n",
        "class CustomDataset(torch.utils.data.Dataset):\n",
        "    def __init__(self, df, transform=None):\n",
        "        self.df = df[df['text'].str.contains(\"face\")]  # Filter rows where text column contains \"face\"\n",
        "        self.transform = transform\n",
        "\n",
        "    def __len__(self):\n",
        "        return len(self.df)\n",
        "\n",
        "    def __getitem__(self, idx):\n",
        "        # Extract image data from the DataFrame\n",
        "        img_bytes = self.df.iloc[idx][\"image\"][\"bytes\"]\n",
        "        img = Image.open(io.BytesIO(img_bytes))\n",
        "        if self.transform:\n",
        "            img = self.transform(img)\n",
        "        return img\n",
        "\n",
        "# Create an instance of the custom dataset\n",
        "custom_dataset = CustomDataset(df, transform=transform)\n"
      ],
      "metadata": {
        "id": "2Lii9LcwSUNp"
      },
      "execution_count": null,
      "outputs": []
    },
    {
      "cell_type": "code",
      "source": [
        "dataset = CustomDataset(df, transform=transform)\n",
        "train_size = int(0.6 * len(dataset))\n",
        "val_size = int(0.2 * len(dataset))\n",
        "test_size = len(dataset) - train_size - val_size\n",
        "train_dataset, val_dataset, test_dataset = random_split(dataset, [train_size, val_size, test_size])\n",
        "\n",
        "train_loader = DataLoader(train_dataset, batch_size=batch_size, shuffle=True)\n",
        "val_loader = DataLoader(val_dataset, batch_size=batch_size, shuffle=False)\n",
        "test_loader = DataLoader(test_dataset, batch_size=batch_size, shuffle=False)\n"
      ],
      "metadata": {
        "id": "m3PUoEjwS7iX"
      },
      "execution_count": null,
      "outputs": []
    },
    {
      "cell_type": "code",
      "source": [
        "train_size"
      ],
      "metadata": {
        "colab": {
          "base_uri": "https://localhost:8080/"
        },
        "id": "EdZ9OGQCcVyH",
        "outputId": "36d3a4c8-cc75-4356-d122-afe5ee312b91"
      },
      "execution_count": null,
      "outputs": [
        {
          "output_type": "execute_result",
          "data": {
            "text/plain": [
              "122"
            ]
          },
          "metadata": {},
          "execution_count": 5
        }
      ]
    },
    {
      "cell_type": "code",
      "source": [
        "len(test_dataset)"
      ],
      "metadata": {
        "colab": {
          "base_uri": "https://localhost:8080/"
        },
        "id": "ZD4J37dkcaG7",
        "outputId": "0d732a47-defa-4be6-b0dc-3cdce627a5b9"
      },
      "execution_count": null,
      "outputs": [
        {
          "output_type": "execute_result",
          "data": {
            "text/plain": [
              "42"
            ]
          },
          "metadata": {},
          "execution_count": 6
        }
      ]
    },
    {
      "cell_type": "code",
      "source": [
        "len(val_dataset)"
      ],
      "metadata": {
        "colab": {
          "base_uri": "https://localhost:8080/"
        },
        "id": "r_9ntA-pf2BK",
        "outputId": "af5dd781-b5a0-4b14-d26f-270aa836ef89"
      },
      "execution_count": null,
      "outputs": [
        {
          "output_type": "execute_result",
          "data": {
            "text/plain": [
              "40"
            ]
          },
          "metadata": {},
          "execution_count": 7
        }
      ]
    },
    {
      "cell_type": "code",
      "source": [
        "len(dataset)"
      ],
      "metadata": {
        "colab": {
          "base_uri": "https://localhost:8080/"
        },
        "id": "Hr0tmvuLmrxH",
        "outputId": "bb72559f-2929-45d1-dbd7-4017e88936f4"
      },
      "execution_count": null,
      "outputs": [
        {
          "output_type": "execute_result",
          "data": {
            "text/plain": [
              "204"
            ]
          },
          "metadata": {},
          "execution_count": 8
        }
      ]
    },
    {
      "cell_type": "code",
      "source": [
        "len(train_dataset)"
      ],
      "metadata": {
        "colab": {
          "base_uri": "https://localhost:8080/"
        },
        "id": "Us_pcOyCAx0B",
        "outputId": "62e2b6bd-9a8b-486a-fa1f-df848b213551"
      },
      "execution_count": null,
      "outputs": [
        {
          "output_type": "execute_result",
          "data": {
            "text/plain": [
              "122"
            ]
          },
          "metadata": {},
          "execution_count": 10
        }
      ]
    },
    {
      "cell_type": "code",
      "source": [
        "import torch\n",
        "from torchvision import transforms\n",
        "from torch.utils.data import DataLoader, random_split, ConcatDataset\n",
        "\n",
        "# Assuming the existence of a `CustomDataset`, `df`, and 'transform' for validation and test datasets\n",
        "torch.manual_seed(42)\n",
        "\n",
        "# Define the data augmentation transforms for the training dataset\n",
        "train_transform = transforms.Compose([\n",
        "    transforms.Resize((64, 64)),\n",
        "    transforms.RandomHorizontalFlip(),\n",
        "    transforms.RandomRotation(10),\n",
        "    transforms.ColorJitter(brightness=0.1, contrast=0.1, saturation=0.1, hue=0.1),\n",
        "    transforms.ToTensor()\n",
        "])\n",
        "\n",
        "# Create the augmented datasets\n",
        "augmented_train_dataset = CustomDataset(df, transform=train_transform)\n",
        "augmented_val_dataset = CustomDataset(df, transform=transform)  # Assuming transform is defined elsewhere\n",
        "augmented_test_dataset = CustomDataset(df, transform=transform)  # Assuming transform is defined elsewhere\n",
        "\n",
        "# Function to generate a specific number of additional samples by data augmentation\n",
        "def generate_additional_samples(dataset, additional_samples_count):\n",
        "    original_size = len(dataset)\n",
        "    if additional_samples_count <= original_size:\n",
        "        additional_samples, _ = random_split(dataset, [additional_samples_count, original_size - additional_samples_count])\n",
        "    else:\n",
        "        # If requested more samples than existing, replicate the dataset until reaching the desired count\n",
        "        factor = additional_samples_count // original_size + 1  # Calculate replication factor\n",
        "        replicated_dataset = ConcatDataset([dataset] * factor)  # Replicate dataset\n",
        "        additional_samples, _ = random_split(replicated_dataset, [additional_samples_count, len(replicated_dataset) - additional_samples_count])\n",
        "    return additional_samples\n",
        "\n",
        "# Generate additional samples\n",
        "additional_train_samples = generate_additional_samples(augmented_train_dataset, 500)\n",
        "additional_val_samples = generate_additional_samples(augmented_val_dataset, 200)\n",
        "additional_test_samples = generate_additional_samples(augmented_test_dataset, 200)\n",
        "\n",
        "# Concatenate additional samples with original datasets\n",
        "train_dataset = ConcatDataset([train_dataset, additional_train_samples])  # Assuming train_dataset is defined elsewhere\n",
        "val_dataset = ConcatDataset([val_dataset, additional_val_samples])  # Assuming val_dataset is defined elsewhere\n",
        "test_dataset = ConcatDataset([test_dataset, additional_test_samples])  # Assuming test_dataset is defined elsewhere\n",
        "\n",
        "# Create data loaders\n",
        "batch_size = 32  # Adjust this as per your requirement\n",
        "train_loader = DataLoader(train_dataset, batch_size=batch_size, shuffle=True)\n",
        "val_loader = DataLoader(val_dataset, batch_size=batch_size, shuffle=False)\n",
        "test_loader = DataLoader(test_dataset, batch_size=batch_size, shuffle=False)\n",
        "\n",
        "# Print counts\n",
        "print(f\"Train set count: {len(train_dataset)}\")\n",
        "print(f\"Validation set count: {len(val_dataset)}\")\n",
        "print(f\"Test set count: {len(test_dataset)}\")\n"
      ],
      "metadata": {
        "colab": {
          "base_uri": "https://localhost:8080/"
        },
        "id": "41da20fSDquf",
        "outputId": "4e3ff394-37f9-4b92-ab6b-65e06fee2f58"
      },
      "execution_count": null,
      "outputs": [
        {
          "output_type": "stream",
          "name": "stdout",
          "text": [
            "Train set count: 622\n",
            "Validation set count: 240\n",
            "Test set count: 242\n"
          ]
        }
      ]
    },
    {
      "cell_type": "code",
      "source": [
        "# Initialize the autoencoder model\n",
        "model = Autoencoder()\n",
        "\n",
        "# Define loss function and optimizer\n",
        "criterion = nn.MSELoss()\n",
        "optimizer = optim.Adam(model.parameters(), lr=learning_rate)\n",
        "\n",
        "# Training loop\n",
        "train_losses = []\n",
        "val_losses = []\n",
        "for epoch in range(num_epochs):\n",
        "    train_loss = 0.0\n",
        "    val_loss = 0.0\n",
        "\n",
        "    # Training\n",
        "    model.train()\n",
        "    for images in train_loader:\n",
        "        optimizer.zero_grad()\n",
        "        outputs = model(images)\n",
        "        loss = criterion(outputs, images)\n",
        "        loss.backward()\n",
        "        optimizer.step()\n",
        "        train_loss += loss.item() * images.size(0)\n",
        "    train_loss = train_loss / len(train_loader.dataset)\n",
        "    train_losses.append(train_loss)\n",
        "\n",
        "    # Validation\n",
        "    model.eval()\n",
        "    with torch.no_grad():\n",
        "        for images in val_loader:\n",
        "            outputs = model(images)\n",
        "            loss = criterion(outputs, images)\n",
        "            val_loss += loss.item() * images.size(0)\n",
        "        val_loss = val_loss / len(val_loader.dataset)\n",
        "        val_losses.append(val_loss)\n",
        "\n",
        "    print(f'Epoch [{epoch+1}/{num_epochs}], Train Loss: {train_loss:.4f}, Val Loss: {val_loss:.4f}')\n",
        "\n",
        "# Plot learning curves\n",
        "plt.plot(range(1, num_epochs+1), train_losses, label='Train Loss')\n",
        "plt.plot(range(1, num_epochs+1), val_losses, label='Val Loss')\n",
        "plt.xlabel('Epoch')\n",
        "plt.ylabel('Loss')\n",
        "plt.title('Learning Curves')\n",
        "plt.legend()\n",
        "plt.show()\n"
      ],
      "metadata": {
        "colab": {
          "base_uri": "https://localhost:8080/",
          "height": 1000
        },
        "id": "hJ2PUvGRSciV",
        "outputId": "7c9759a2-82a8-43ac-9a61-18e4a05ef7a5"
      },
      "execution_count": null,
      "outputs": [
        {
          "output_type": "stream",
          "name": "stdout",
          "text": [
            "Epoch [1/100], Train Loss: 0.1371, Val Loss: 0.1115\n",
            "Epoch [2/100], Train Loss: 0.1028, Val Loss: 0.0820\n",
            "Epoch [3/100], Train Loss: 0.0822, Val Loss: 0.0600\n",
            "Epoch [4/100], Train Loss: 0.0689, Val Loss: 0.0485\n",
            "Epoch [5/100], Train Loss: 0.0562, Val Loss: 0.0391\n",
            "Epoch [6/100], Train Loss: 0.0486, Val Loss: 0.0333\n",
            "Epoch [7/100], Train Loss: 0.0438, Val Loss: 0.0296\n",
            "Epoch [8/100], Train Loss: 0.0380, Val Loss: 0.0245\n",
            "Epoch [9/100], Train Loss: 0.0331, Val Loss: 0.0205\n",
            "Epoch [10/100], Train Loss: 0.0286, Val Loss: 0.0180\n",
            "Epoch [11/100], Train Loss: 0.0258, Val Loss: 0.0163\n",
            "Epoch [12/100], Train Loss: 0.0236, Val Loss: 0.0156\n",
            "Epoch [13/100], Train Loss: 0.0226, Val Loss: 0.0169\n",
            "Epoch [14/100], Train Loss: 0.0227, Val Loss: 0.0148\n",
            "Epoch [15/100], Train Loss: 0.0213, Val Loss: 0.0137\n",
            "Epoch [16/100], Train Loss: 0.0205, Val Loss: 0.0132\n",
            "Epoch [17/100], Train Loss: 0.0193, Val Loss: 0.0134\n",
            "Epoch [18/100], Train Loss: 0.0195, Val Loss: 0.0126\n",
            "Epoch [19/100], Train Loss: 0.0186, Val Loss: 0.0124\n",
            "Epoch [20/100], Train Loss: 0.0180, Val Loss: 0.0120\n",
            "Epoch [21/100], Train Loss: 0.0174, Val Loss: 0.0116\n",
            "Epoch [22/100], Train Loss: 0.0175, Val Loss: 0.0114\n",
            "Epoch [23/100], Train Loss: 0.0171, Val Loss: 0.0119\n",
            "Epoch [24/100], Train Loss: 0.0161, Val Loss: 0.0108\n",
            "Epoch [25/100], Train Loss: 0.0157, Val Loss: 0.0106\n",
            "Epoch [26/100], Train Loss: 0.0151, Val Loss: 0.0104\n",
            "Epoch [27/100], Train Loss: 0.0148, Val Loss: 0.0101\n",
            "Epoch [28/100], Train Loss: 0.0147, Val Loss: 0.0102\n",
            "Epoch [29/100], Train Loss: 0.0142, Val Loss: 0.0100\n",
            "Epoch [30/100], Train Loss: 0.0137, Val Loss: 0.0097\n",
            "Epoch [31/100], Train Loss: 0.0134, Val Loss: 0.0097\n",
            "Epoch [32/100], Train Loss: 0.0133, Val Loss: 0.0094\n",
            "Epoch [33/100], Train Loss: 0.0130, Val Loss: 0.0091\n",
            "Epoch [34/100], Train Loss: 0.0130, Val Loss: 0.0090\n",
            "Epoch [35/100], Train Loss: 0.0128, Val Loss: 0.0088\n",
            "Epoch [36/100], Train Loss: 0.0126, Val Loss: 0.0092\n",
            "Epoch [37/100], Train Loss: 0.0122, Val Loss: 0.0090\n",
            "Epoch [38/100], Train Loss: 0.0123, Val Loss: 0.0085\n",
            "Epoch [39/100], Train Loss: 0.0119, Val Loss: 0.0086\n",
            "Epoch [40/100], Train Loss: 0.0118, Val Loss: 0.0084\n",
            "Epoch [41/100], Train Loss: 0.0117, Val Loss: 0.0090\n",
            "Epoch [42/100], Train Loss: 0.0128, Val Loss: 0.0085\n",
            "Epoch [43/100], Train Loss: 0.0118, Val Loss: 0.0079\n",
            "Epoch [44/100], Train Loss: 0.0111, Val Loss: 0.0079\n",
            "Epoch [45/100], Train Loss: 0.0109, Val Loss: 0.0078\n",
            "Epoch [46/100], Train Loss: 0.0109, Val Loss: 0.0077\n",
            "Epoch [47/100], Train Loss: 0.0106, Val Loss: 0.0076\n",
            "Epoch [48/100], Train Loss: 0.0106, Val Loss: 0.0076\n",
            "Epoch [49/100], Train Loss: 0.0102, Val Loss: 0.0074\n",
            "Epoch [50/100], Train Loss: 0.0104, Val Loss: 0.0073\n",
            "Epoch [51/100], Train Loss: 0.0102, Val Loss: 0.0075\n",
            "Epoch [52/100], Train Loss: 0.0100, Val Loss: 0.0072\n",
            "Epoch [53/100], Train Loss: 0.0100, Val Loss: 0.0073\n",
            "Epoch [54/100], Train Loss: 0.0098, Val Loss: 0.0072\n",
            "Epoch [55/100], Train Loss: 0.0101, Val Loss: 0.0071\n",
            "Epoch [56/100], Train Loss: 0.0108, Val Loss: 0.0073\n",
            "Epoch [57/100], Train Loss: 0.0095, Val Loss: 0.0067\n",
            "Epoch [58/100], Train Loss: 0.0092, Val Loss: 0.0066\n",
            "Epoch [59/100], Train Loss: 0.0092, Val Loss: 0.0066\n",
            "Epoch [60/100], Train Loss: 0.0090, Val Loss: 0.0065\n",
            "Epoch [61/100], Train Loss: 0.0089, Val Loss: 0.0064\n",
            "Epoch [62/100], Train Loss: 0.0087, Val Loss: 0.0065\n",
            "Epoch [63/100], Train Loss: 0.0088, Val Loss: 0.0064\n",
            "Epoch [64/100], Train Loss: 0.0087, Val Loss: 0.0065\n",
            "Epoch [65/100], Train Loss: 0.0084, Val Loss: 0.0062\n",
            "Epoch [66/100], Train Loss: 0.0086, Val Loss: 0.0063\n",
            "Epoch [67/100], Train Loss: 0.0084, Val Loss: 0.0060\n",
            "Epoch [68/100], Train Loss: 0.0083, Val Loss: 0.0060\n",
            "Epoch [69/100], Train Loss: 0.0081, Val Loss: 0.0066\n",
            "Epoch [70/100], Train Loss: 0.0081, Val Loss: 0.0060\n",
            "Epoch [71/100], Train Loss: 0.0080, Val Loss: 0.0058\n",
            "Epoch [72/100], Train Loss: 0.0077, Val Loss: 0.0058\n",
            "Epoch [73/100], Train Loss: 0.0077, Val Loss: 0.0056\n",
            "Epoch [74/100], Train Loss: 0.0076, Val Loss: 0.0056\n",
            "Epoch [75/100], Train Loss: 0.0075, Val Loss: 0.0055\n",
            "Epoch [76/100], Train Loss: 0.0074, Val Loss: 0.0058\n",
            "Epoch [77/100], Train Loss: 0.0073, Val Loss: 0.0053\n",
            "Epoch [78/100], Train Loss: 0.0072, Val Loss: 0.0054\n",
            "Epoch [79/100], Train Loss: 0.0073, Val Loss: 0.0070\n",
            "Epoch [80/100], Train Loss: 0.0076, Val Loss: 0.0052\n",
            "Epoch [81/100], Train Loss: 0.0071, Val Loss: 0.0052\n",
            "Epoch [82/100], Train Loss: 0.0070, Val Loss: 0.0051\n",
            "Epoch [83/100], Train Loss: 0.0069, Val Loss: 0.0050\n",
            "Epoch [84/100], Train Loss: 0.0069, Val Loss: 0.0050\n",
            "Epoch [85/100], Train Loss: 0.0069, Val Loss: 0.0051\n",
            "Epoch [86/100], Train Loss: 0.0070, Val Loss: 0.0050\n",
            "Epoch [87/100], Train Loss: 0.0072, Val Loss: 0.0061\n",
            "Epoch [88/100], Train Loss: 0.0069, Val Loss: 0.0050\n",
            "Epoch [89/100], Train Loss: 0.0066, Val Loss: 0.0050\n",
            "Epoch [90/100], Train Loss: 0.0065, Val Loss: 0.0048\n",
            "Epoch [91/100], Train Loss: 0.0066, Val Loss: 0.0048\n",
            "Epoch [92/100], Train Loss: 0.0064, Val Loss: 0.0049\n",
            "Epoch [93/100], Train Loss: 0.0064, Val Loss: 0.0047\n",
            "Epoch [94/100], Train Loss: 0.0063, Val Loss: 0.0047\n",
            "Epoch [95/100], Train Loss: 0.0063, Val Loss: 0.0047\n",
            "Epoch [96/100], Train Loss: 0.0062, Val Loss: 0.0046\n",
            "Epoch [97/100], Train Loss: 0.0062, Val Loss: 0.0046\n",
            "Epoch [98/100], Train Loss: 0.0062, Val Loss: 0.0045\n",
            "Epoch [99/100], Train Loss: 0.0062, Val Loss: 0.0047\n",
            "Epoch [100/100], Train Loss: 0.0068, Val Loss: 0.0050\n"
          ]
        },
        {
          "output_type": "display_data",
          "data": {
            "text/plain": [
              "<Figure size 640x480 with 1 Axes>"
            ],
            "image/png": "[encoded data removed]"
          },
          "metadata": {}
        }
      ]
    },
    {
      "cell_type": "code",
      "source": [
        "# Evaluate the model on the test set\n",
        "test_loss = 0.0\n",
        "model.eval()\n",
        "with torch.no_grad():\n",
        "    for images in test_loader:\n",
        "        outputs = model(images)\n",
        "        loss = criterion(outputs, images)\n",
        "        test_loss += loss.item() * images.size(0)\n",
        "    test_loss = test_loss / len(test_loader.dataset)\n",
        "print(f'Average Test Loss: {test_loss:.4f}')\n"
      ],
      "metadata": {
        "colab": {
          "base_uri": "https://localhost:8080/"
        },
        "id": "_s5JBMGXTBUQ",
        "outputId": "631bcc9c-4c00-41de-d79a-6d529586b938"
      },
      "execution_count": null,
      "outputs": [
        {
          "output_type": "stream",
          "name": "stdout",
          "text": [
            "Average Test Loss: 0.0049\n"
          ]
        }
      ]
    },
    {
      "cell_type": "markdown",
      "source": [
        "##Question 2:\n",
        "\n",
        "(5.0points) Separate your dataset into two or more classes using Emoji descriptions and assign labels. Repeat Step 1 adding image classification as an auxiliary task to MSE with a lamda of your choosing. You can choose any classification technique.\n",
        "\n",
        "a. describe how you separated your dataset into classes,\n",
        "\n",
        "b. describe your classification technique and hyper-parameters,\n",
        "\n",
        "c. plot learning curves for training and validation loss for MSE and classification, accuracy.\n",
        "\n",
        "d. discuss how incorporating classification as an auxiliary tasks impacts the performance of your autoencoder,\n",
        "\n",
        "e. speculate why performance changed and recommend (but do not implement) an\n",
        "experiment to confirm or reject your speculation.\n",
        "\n",
        "##Answer:\n",
        "\n",
        "**a. Separation of Dataset into Classes:**\n",
        "\n",
        "The dataset was categorized into classes based on the text descriptions of emojis. The assign_label function mapped each emoji to a class according to specific keywords found in the text, with a default class of 'others' for emojis that did not match any of the keywords. Labels were assigned as follows:\n",
        "\n",
        "'cat' if \"cat\" was in the text,\n",
        "\n",
        "'clock' for \"clock\",\n",
        "\n",
        "'robot' for \"robot\",\n",
        "\n",
        "'woman' for \"woman\",\n",
        "\n",
        "'man' for \"man\",\n",
        "\n",
        "'moon' for \"moon\",\n",
        "\n",
        "'others' for all other cases.\n",
        "\n",
        "These labels were then used to create a labeled dataset for training both the autoencoder and classifier.\n",
        "\n",
        "\n",
        "**b. Classification Technique and Hyperparameters:**\n",
        "\n",
        "The classification technique utilized was a convolutional neural network (CNN) with three convolutional layers for feature extraction followed by two fully connected layers for classification.\n",
        "\n",
        "The CNN was designed to classify the emojis based on the learned features. The network used ReLU activations and ended with a linear layer sized to the number of classes in the class_mapping.\n",
        "\n",
        "Hyperparameters:\n",
        "1. Batch size: 32\n",
        "2. Learning rate: 0.001\n",
        "3. Number of epochs: 100\n",
        "\n",
        "\n",
        "**c. Learning Curves for Training and Validation Loss for MSE and Classification Accuracy**\n",
        "\n",
        "The learning curves for the autoencoder show that both the training and validation loss decrease significantly and converge, indicating good generalization without overfitting. The convergence of training and validation loss for the autoencoder suggests it has learned an efficient representation of the data. After 60th epoch, the model accuracy gets saturates and oscillates the accuracy between 81-83%.\n",
        "\n",
        "The classifier's training and validation accuracy improve and plateau, indicating that the model learns to classify the emojis effectively but might benefit from regularization or additional data to improve further.\n",
        "\n",
        "\n",
        "**d. Impact of Incorporating Classification as an Auxiliary Task:**\n",
        "\n",
        "Incorporating classification as an auxiliary task can provide a regularizing effect on the autoencoder, as it encourages the learned representations to be useful for both reconstruction and classification.\n",
        "\n",
        "This dual objective can help in learning more general features that are not solely focused on minimizing reconstruction error, which could improve the model's performance on unseen data.\n",
        "\n",
        "\n",
        "**e. Speculation and Experimental Recommendation:**\n",
        "\n",
        "The observed performance changed reducing marginally, however the autoencoder shows good convergence based on the limited amount of data that we have.\n",
        "\n",
        "The performance change upon incorporating classification as an auxiliary task could be attributed to the autoencoder learning representations that are not only good for reconstruction but also contain relevant information for classification. This dual objective can lead to a more generalized feature space but might also introduce a trade-off between reconstruction fidelity and classification accuracy.\n",
        "\n",
        "To confirm or reject this speculation, an experiment could be conducted adjusting the weight (lambda) given to the classification loss in the combined loss function."
      ],
      "metadata": {
        "id": "YXHW3x3_7Fdx"
      }
    },
    {
      "cell_type": "code",
      "execution_count": null,
      "metadata": {
        "id": "a-6xOrwZ1eAr"
      },
      "outputs": [],
      "source": [
        "import torch\n",
        "import torch.nn as nn\n",
        "import torch.optim as optim\n",
        "from torch.utils.data import DataLoader, random_split\n",
        "from torchvision import transforms\n",
        "from PIL import Image\n",
        "import io\n",
        "import pyarrow.parquet as pq\n",
        "import pandas as pd\n",
        "import matplotlib.pyplot as plt\n"
      ]
    },
    {
      "cell_type": "code",
      "source": [
        "class Autoencoder(nn.Module):\n",
        "    def __init__(self):\n",
        "        super(Autoencoder, self).__init__()\n",
        "        self.encoder = nn.Sequential(\n",
        "            nn.Conv2d(3, 16, 3, stride=2, padding=1),  # Convolutional layer 1\n",
        "            nn.ReLU(),\n",
        "            nn.Conv2d(16, 32, 3, stride=2, padding=1),  # Convolutional layer 2\n",
        "            nn.ReLU(),\n",
        "            nn.Conv2d(32, 64, 3, stride=2, padding=1),  # Convolutional layer 3\n",
        "            nn.ReLU()\n",
        "        )\n",
        "        self.decoder = nn.Sequential(\n",
        "            nn.ConvTranspose2d(64, 32, 3, stride=2, padding=1, output_padding=1),  # Transposed convolutional layer 1\n",
        "            nn.ReLU(),\n",
        "            nn.ConvTranspose2d(32, 16, 3, stride=2, padding=1, output_padding=1),  # Transposed convolutional layer 2\n",
        "            nn.ReLU(),\n",
        "            nn.ConvTranspose2d(16, 3, 3, stride=2, padding=1, output_padding=1),  # Transposed convolutional layer 3\n",
        "            nn.Sigmoid()\n",
        "        )\n",
        "\n",
        "    def forward(self, x):\n",
        "        x = self.encoder(x)\n",
        "        x = self.decoder(x)\n",
        "        return x\n",
        "\n",
        "# Define hyperparameters\n",
        "batch_size = 64\n",
        "learning_rate = 0.001\n",
        "num_epochs = 100\n"
      ],
      "metadata": {
        "id": "NkhuAXI827IR"
      },
      "execution_count": null,
      "outputs": []
    },
    {
      "cell_type": "code",
      "source": [
        "# Load the dataset from Parquet file\n",
        "parquet_file = \"/content/0000.parquet\"\n",
        "table = pq.read_table(parquet_file)\n",
        "df = table.to_pandas()\n",
        "\n",
        "# Define transforms\n",
        "transform = transforms.Compose([\n",
        "    transforms.Resize((64, 64)),\n",
        "    transforms.ToTensor()\n",
        "])\n",
        "\n",
        "# Define custom dataset class\n",
        "class CustomDataset(torch.utils.data.Dataset):\n",
        "    def __init__(self, df, transform=None):\n",
        "        self.df = df[df['text'].str.contains(\"face\")]  # Filter rows where text column contains \"face\"\n",
        "        self.transform = transform\n",
        "\n",
        "    def __len__(self):\n",
        "        return len(self.df)\n",
        "\n",
        "    def __getitem__(self, idx):\n",
        "        # Extract image data from the DataFrame\n",
        "        img_bytes = self.df.iloc[idx][\"image\"][\"bytes\"]\n",
        "        img = Image.open(io.BytesIO(img_bytes))\n",
        "        if self.transform:\n",
        "            img = self.transform(img)\n",
        "        return img\n",
        "\n",
        "# Create an instance of the custom dataset\n",
        "custom_dataset = CustomDataset(df, transform=transform)\n"
      ],
      "metadata": {
        "id": "SFq3LVjJ28ww"
      },
      "execution_count": null,
      "outputs": []
    },
    {
      "cell_type": "code",
      "source": [
        "# Step 5a: Separate the dataset into classes\n",
        "class_mapping = {\n",
        "    'cat': 0,\n",
        "    'clock': 1,\n",
        "    'others': 2,\n",
        "    'robot':3,\n",
        "    'woman':4,\n",
        "    'man':5,\n",
        "    'moon':6,\n",
        "}\n",
        "\n",
        "def assign_label(text):\n",
        "    if \"cat\" in text:\n",
        "        return 'cat'\n",
        "    elif \"clock\" in text:\n",
        "        return 'clock'\n",
        "    elif \"robot\" in text:\n",
        "        return 'robot'\n",
        "    elif \"woman\" in text:\n",
        "        return 'woman'\n",
        "    elif \"man\" in text:\n",
        "        return 'man'\n",
        "    elif \"moon\" in text:\n",
        "        return 'moon'\n",
        "    else:\n",
        "        return 'others'\n",
        "\n",
        "df['label'] = df['text'].apply(assign_label)"
      ],
      "metadata": {
        "id": "-1s6Z0IZ3COf"
      },
      "execution_count": null,
      "outputs": []
    },
    {
      "cell_type": "code",
      "source": [
        "dataset = CustomDataset(df, transform=transform)\n",
        "train_size = int(0.6 * len(dataset))\n",
        "val_size = int(0.2 * len(dataset))\n",
        "test_size = len(dataset) - train_size - val_size\n",
        "train_dataset, val_dataset, test_dataset = random_split(dataset, [train_size, val_size, test_size])\n",
        "\n",
        "train_loader = DataLoader(train_dataset, batch_size=batch_size, shuffle=True)\n",
        "val_loader = DataLoader(val_dataset, batch_size=batch_size, shuffle=False)\n",
        "test_loader = DataLoader(test_dataset, batch_size=batch_size, shuffle=False)\n"
      ],
      "metadata": {
        "id": "4w5c6SMx3h42"
      },
      "execution_count": null,
      "outputs": []
    },
    {
      "cell_type": "code",
      "source": [
        "import torch\n",
        "from torchvision import transforms\n",
        "from torch.utils.data import DataLoader, random_split, ConcatDataset\n",
        "\n",
        "# Assuming the existence of a `CustomDataset`, `df`, and 'transform' for validation and test datasets\n",
        "torch.manual_seed(42)\n",
        "\n",
        "# Define the data augmentation transforms for the training dataset\n",
        "train_transform = transforms.Compose([\n",
        "    transforms.Resize((64, 64)),\n",
        "    transforms.RandomHorizontalFlip(),\n",
        "    transforms.RandomRotation(10),\n",
        "    transforms.ColorJitter(brightness=0.1, contrast=0.1, saturation=0.1, hue=0.1),\n",
        "    transforms.ToTensor()\n",
        "])\n",
        "\n",
        "# Create the augmented datasets\n",
        "augmented_train_dataset = CustomDataset(df, transform=train_transform)\n",
        "augmented_val_dataset = CustomDataset(df, transform=transform)  # Assuming transform is defined elsewhere\n",
        "augmented_test_dataset = CustomDataset(df, transform=transform)  # Assuming transform is defined elsewhere\n",
        "\n",
        "# Function to generate a specific number of additional samples by data augmentation\n",
        "def generate_additional_samples(dataset, additional_samples_count):\n",
        "    original_size = len(dataset)\n",
        "    if additional_samples_count <= original_size:\n",
        "        additional_samples, _ = random_split(dataset, [additional_samples_count, original_size - additional_samples_count])\n",
        "    else:\n",
        "        # If requested more samples than existing, replicate the dataset until reaching the desired count\n",
        "        factor = additional_samples_count // original_size + 1  # Calculate replication factor\n",
        "        replicated_dataset = ConcatDataset([dataset] * factor)  # Replicate dataset\n",
        "        additional_samples, _ = random_split(replicated_dataset, [additional_samples_count, len(replicated_dataset) - additional_samples_count])\n",
        "    return additional_samples\n",
        "\n",
        "# Generate additional samples\n",
        "additional_train_samples = generate_additional_samples(augmented_train_dataset, 500)\n",
        "additional_val_samples = generate_additional_samples(augmented_val_dataset, 200)\n",
        "additional_test_samples = generate_additional_samples(augmented_test_dataset, 200)\n",
        "\n",
        "# Concatenate additional samples with original datasets\n",
        "train_dataset = ConcatDataset([train_dataset, additional_train_samples])  # Assuming train_dataset is defined elsewhere\n",
        "val_dataset = ConcatDataset([val_dataset, additional_val_samples])  # Assuming val_dataset is defined elsewhere\n",
        "test_dataset = ConcatDataset([test_dataset, additional_test_samples])  # Assuming test_dataset is defined elsewhere\n",
        "\n",
        "# Create data loaders\n",
        "batch_size = 32  # Adjust this as per your requirement\n",
        "train_loader = DataLoader(train_dataset, batch_size=batch_size, shuffle=True)\n",
        "val_loader = DataLoader(val_dataset, batch_size=batch_size, shuffle=False)\n",
        "test_loader = DataLoader(test_dataset, batch_size=batch_size, shuffle=False)\n",
        "\n",
        "# Print counts\n",
        "print(f\"Train set count: {len(train_dataset)}\")\n",
        "print(f\"Validation set count: {len(val_dataset)}\")\n",
        "print(f\"Test set count: {len(test_dataset)}\")\n"
      ],
      "metadata": {
        "colab": {
          "base_uri": "https://localhost:8080/"
        },
        "id": "lgMo5qVm3NIe",
        "outputId": "8153dacc-8718-495a-8b4e-cf2ba12802eb"
      },
      "execution_count": null,
      "outputs": [
        {
          "output_type": "stream",
          "name": "stdout",
          "text": [
            "Train set count: 622\n",
            "Validation set count: 240\n",
            "Test set count: 242\n"
          ]
        }
      ]
    },
    {
      "cell_type": "code",
      "source": [
        "import torch.nn.functional as F\n",
        "\n",
        "# Step 5b: Classification technique and hyper-parameters\n",
        "class Classifier(nn.Module):\n",
        "    def __init__(self):\n",
        "        super(Classifier, self).__init__()\n",
        "        self.conv1 = nn.Conv2d(3, 16, 3, stride=2, padding=1)\n",
        "        self.conv2 = nn.Conv2d(16, 32, 3, stride=2, padding=1)\n",
        "        self.conv3 = nn.Conv2d(32, 64, 3, stride=2, padding=1)\n",
        "        self.fc1 = nn.Linear(64 * 8 * 8, 128)\n",
        "        self.fc2 = nn.Linear(128, len(class_mapping))  # Output size is the number of classes\n",
        "\n",
        "    def forward(self, x):\n",
        "        x = F.relu(self.conv1(x))\n",
        "        x = F.relu(self.conv2(x))\n",
        "        x = F.relu(self.conv3(x))\n",
        "        x = x.view(-1, 64 * 8 * 8)  # Flatten\n",
        "        x = F.relu(self.fc1(x))\n",
        "        x = self.fc2(x)\n",
        "        return x\n",
        "\n",
        "# Define hyperparameters\n",
        "classifier_batch_size = 32\n",
        "classifier_learning_rate = 0.001\n",
        "\n",
        "\n",
        "# Define classification dataset\n",
        "class CustomClassifierDataset(torch.utils.data.Dataset):\n",
        "    def __init__(self, df, transform=None):\n",
        "        self.df = df\n",
        "        self.transform = transform\n",
        "\n",
        "    def __len__(self):\n",
        "        return len(self.df)\n",
        "\n",
        "    def __getitem__(self, idx):\n",
        "        img_bytes = self.df.iloc[idx][\"image\"][\"bytes\"]\n",
        "        img = Image.open(io.BytesIO(img_bytes))\n",
        "        if self.transform:\n",
        "            img = self.transform(img)\n",
        "        label = class_mapping[self.df.iloc[idx]['label']]\n",
        "        return img, label\n",
        "\n",
        "# Define classification transforms\n",
        "classifier_transform = transforms.Compose([\n",
        "    transforms.Resize((64, 64)),\n",
        "    transforms.ToTensor()\n",
        "])\n",
        "\n",
        "# Create classification dataset and data loaders\n",
        "classifier_dataset = CustomClassifierDataset(df, transform=classifier_transform)\n",
        "classifier_train_size = int(0.6 * len(classifier_dataset))\n",
        "classifier_val_size = int(0.2 * len(classifier_dataset))\n",
        "classifier_test_size = len(classifier_dataset) - classifier_train_size - classifier_val_size\n",
        "classifier_train_dataset, classifier_val_dataset, classifier_test_dataset = torch.utils.data.random_split(\n",
        "    classifier_dataset, [classifier_train_size, classifier_val_size, classifier_test_size]\n",
        ")\n",
        "\n",
        "classifier_train_loader = DataLoader(classifier_train_dataset, batch_size=classifier_batch_size, shuffle=True)\n",
        "classifier_val_loader = DataLoader(classifier_val_dataset, batch_size=classifier_batch_size, shuffle=False)\n",
        "classifier_test_loader = DataLoader(classifier_test_dataset, batch_size=classifier_batch_size, shuffle=False)\n"
      ],
      "metadata": {
        "id": "EUtW0D3x33bu"
      },
      "execution_count": null,
      "outputs": []
    },
    {
      "cell_type": "code",
      "source": [
        "# Define device\n",
        "device = torch.device(\"cuda\" if torch.cuda.is_available() else \"cpu\")\n"
      ],
      "metadata": {
        "id": "OY7J14_q38gL"
      },
      "execution_count": null,
      "outputs": []
    },
    {
      "cell_type": "code",
      "source": [
        "# Step 5c: Plotting learning curves for MSE and classification accuracy\n",
        "def train_classifier(model, train_loader, criterion, optimizer, device):\n",
        "    model.train()\n",
        "    running_loss = 0.0\n",
        "    correct = 0\n",
        "    total = 0\n",
        "    for inputs, labels in train_loader:\n",
        "        inputs, labels = inputs.to(device), labels.to(device)\n",
        "        optimizer.zero_grad()\n",
        "        outputs = model(inputs)\n",
        "        loss = criterion(outputs, labels)\n",
        "        loss.backward()\n",
        "        optimizer.step()\n",
        "        running_loss += loss.item() * inputs.size(0)\n",
        "        _, predicted = outputs.max(1)\n",
        "        total += labels.size(0)\n",
        "        correct += predicted.eq(labels).sum().item()\n",
        "    train_loss = running_loss / len(train_loader.dataset)\n",
        "    train_accuracy = 100. * correct / total\n",
        "    return train_loss, train_accuracy\n",
        "\n",
        "def evaluate_classifier(model, val_loader, criterion, device):\n",
        "    model.eval()\n",
        "    running_loss = 0.0\n",
        "    correct = 0\n",
        "    total = 0\n",
        "    with torch.no_grad():\n",
        "        for inputs, labels in val_loader:\n",
        "            inputs, labels = inputs.to(device), labels.to(device)\n",
        "            outputs = model(inputs)\n",
        "            loss = criterion(outputs, labels)\n",
        "            running_loss += loss.item() * inputs.size(0)\n",
        "            _, predicted = outputs.max(1)\n",
        "            total += labels.size(0)\n",
        "            correct += predicted.eq(labels).sum().item()\n",
        "    val_loss = running_loss / len(val_loader.dataset)\n",
        "    val_accuracy = 100. * correct / total\n",
        "    return val_loss, val_accuracy\n",
        "\n",
        "# Initialize models, criterion, optimizer\n",
        "autoencoder = Autoencoder().to(device)\n",
        "classifier = Classifier().to(device)\n",
        "criterion_autoencoder = nn.MSELoss()\n",
        "criterion_classifier = nn.CrossEntropyLoss()\n",
        "optimizer_autoencoder = optim.Adam(autoencoder.parameters(), lr=learning_rate)\n",
        "optimizer_classifier = optim.Adam(classifier.parameters(), lr=classifier_learning_rate)\n",
        "\n",
        "# Training loop\n",
        "train_losses_autoencoder = []\n",
        "val_losses_autoencoder = []\n",
        "train_losses_classifier = []\n",
        "val_losses_classifier = []\n",
        "train_accuracies_classifier = []\n",
        "val_accuracies_classifier = []\n",
        "\n",
        "for epoch in range(num_epochs):\n",
        "    # Train autoencoder\n",
        "    autoencoder.train()\n",
        "    train_loss_autoencoder = 0.0\n",
        "    for images in train_loader:\n",
        "        optimizer_autoencoder.zero_grad()\n",
        "        reconstructions = autoencoder(images.to(device))\n",
        "        loss_autoencoder = criterion_autoencoder(reconstructions, images.to(device))\n",
        "        loss_autoencoder.backward()\n",
        "        optimizer_autoencoder.step()\n",
        "        train_loss_autoencoder += loss_autoencoder.item() * images.size(0)\n",
        "    train_loss_autoencoder /= len(train_loader.dataset)\n",
        "    train_losses_autoencoder.append(train_loss_autoencoder)\n",
        "\n",
        "    # Evaluate autoencoder\n",
        "    autoencoder.eval()\n",
        "    val_loss_autoencoder = 0.0\n",
        "    with torch.no_grad():\n",
        "        for images in val_loader:\n",
        "            reconstructions = autoencoder(images.to(device))\n",
        "            loss_autoencoder = criterion_autoencoder(reconstructions, images.to(device))\n",
        "            val_loss_autoencoder += loss_autoencoder.item() * images.size(0)\n",
        "    val_loss_autoencoder /= len(val_loader.dataset)\n",
        "    val_losses_autoencoder.append(val_loss_autoencoder)\n",
        "\n",
        "    # Train classifier\n",
        "    train_loss_classifier, train_accuracy_classifier = train_classifier(classifier, classifier_train_loader, criterion_classifier, optimizer_classifier, device)\n",
        "    train_losses_classifier.append(train_loss_classifier)\n",
        "    train_accuracies_classifier.append(train_accuracy_classifier)\n",
        "\n",
        "    # Evaluate classifier\n",
        "    val_loss_classifier, val_accuracy_classifier = evaluate_classifier(classifier, classifier_val_loader, criterion_classifier, device)\n",
        "    val_losses_classifier.append(val_loss_classifier)\n",
        "    val_accuracies_classifier.append(val_accuracy_classifier)\n",
        "\n",
        "    print(f\"Epoch [{epoch+1}/{num_epochs}], Autoencoder Train Loss: {train_loss_autoencoder:.4f}, Autoencoder Val Loss: {val_loss_autoencoder:.4f}, Classifier Train Loss: {train_loss_classifier:.4f}, Classifier Val Loss: {val_loss_classifier:.4f}, Classifier Train Accuracy: {train_accuracy_classifier:.2f}%, Classifier Val Accuracy: {val_accuracy_classifier:.2f}%\")\n",
        "\n",
        "# Plot learning curves\n",
        "plt.figure(figsize=(12, 5))\n",
        "\n",
        "plt.subplot(1, 2, 1)\n",
        "plt.plot(range(1, num_epochs+1), train_losses_autoencoder, label='Autoencoder Train Loss')\n",
        "plt.plot(range(1, num_epochs+1), val_losses_autoencoder, label='Autoencoder Val Loss')\n",
        "plt.xlabel('Epoch')\n",
        "plt.ylabel('Loss')\n",
        "plt.title('Autoencoder Learning Curves')\n",
        "plt.legend()\n",
        "\n",
        "plt.subplot(1, 2, 2)\n",
        "plt.plot(range(1, num_epochs+1), train_losses_classifier, label='Classifier Train Loss')\n",
        "plt.plot(range(1, num_epochs+1), val_losses_classifier, label='Classifier Val Loss')\n",
        "plt.plot(range(1, num_epochs+1), train_accuracies_classifier, label='Classifier Train Accuracy')\n",
        "plt.plot(range(1, num_epochs+1), val_accuracies_classifier, label='Classifier Val Accuracy')\n",
        "plt.xlabel('Epoch')\n",
        "plt.ylabel('Loss / Accuracy')\n",
        "plt.title('Classifier Learning Curves')\n",
        "plt.legend()\n",
        "\n",
        "plt.tight_layout()\n",
        "plt.show()\n"
      ],
      "metadata": {
        "colab": {
          "base_uri": "https://localhost:8080/",
          "height": 1000
        },
        "id": "ftkVSbZ93ijT",
        "outputId": "82bb545d-34c5-4efa-d342-d71f698249ee"
      },
      "execution_count": null,
      "outputs": [
        {
          "output_type": "stream",
          "name": "stdout",
          "text": [
            "Epoch [1/100], Autoencoder Train Loss: 0.1344, Autoencoder Val Loss: 0.1239, Classifier Train Loss: 0.8944, Classifier Val Loss: 0.8821, Classifier Train Accuracy: 74.77%, Classifier Val Accuracy: 72.13%\n",
            "Epoch [2/100], Autoencoder Train Loss: 0.1141, Autoencoder Val Loss: 0.0940, Classifier Train Loss: 0.7526, Classifier Val Loss: 0.8147, Classifier Train Accuracy: 76.35%, Classifier Val Accuracy: 71.77%\n",
            "Epoch [3/100], Autoencoder Train Loss: 0.0874, Autoencoder Val Loss: 0.0609, Classifier Train Loss: 0.6799, Classifier Val Loss: 0.7452, Classifier Train Accuracy: 75.56%, Classifier Val Accuracy: 72.50%\n",
            "Epoch [4/100], Autoencoder Train Loss: 0.0660, Autoencoder Val Loss: 0.0429, Classifier Train Loss: 0.5822, Classifier Val Loss: 0.6941, Classifier Train Accuracy: 77.02%, Classifier Val Accuracy: 75.59%\n",
            "Epoch [5/100], Autoencoder Train Loss: 0.0525, Autoencoder Val Loss: 0.0368, Classifier Train Loss: 0.5252, Classifier Val Loss: 0.6438, Classifier Train Accuracy: 79.20%, Classifier Val Accuracy: 73.59%\n",
            "Epoch [6/100], Autoencoder Train Loss: 0.0465, Autoencoder Val Loss: 0.0309, Classifier Train Loss: 0.4517, Classifier Val Loss: 0.6287, Classifier Train Accuracy: 81.50%, Classifier Val Accuracy: 76.14%\n",
            "Epoch [7/100], Autoencoder Train Loss: 0.0419, Autoencoder Val Loss: 0.0273, Classifier Train Loss: 0.3930, Classifier Val Loss: 0.5869, Classifier Train Accuracy: 83.81%, Classifier Val Accuracy: 74.50%\n",
            "Epoch [8/100], Autoencoder Train Loss: 0.0373, Autoencoder Val Loss: 0.0250, Classifier Train Loss: 0.3658, Classifier Val Loss: 0.5855, Classifier Train Accuracy: 84.48%, Classifier Val Accuracy: 77.96%\n",
            "Epoch [9/100], Autoencoder Train Loss: 0.0340, Autoencoder Val Loss: 0.0221, Classifier Train Loss: 0.3166, Classifier Val Loss: 0.6193, Classifier Train Accuracy: 87.20%, Classifier Val Accuracy: 76.87%\n",
            "Epoch [10/100], Autoencoder Train Loss: 0.0313, Autoencoder Val Loss: 0.0197, Classifier Train Loss: 0.2756, Classifier Val Loss: 0.5356, Classifier Train Accuracy: 88.60%, Classifier Val Accuracy: 79.42%\n",
            "Epoch [11/100], Autoencoder Train Loss: 0.0280, Autoencoder Val Loss: 0.0182, Classifier Train Loss: 0.2413, Classifier Val Loss: 0.4957, Classifier Train Accuracy: 89.27%, Classifier Val Accuracy: 81.42%\n",
            "Epoch [12/100], Autoencoder Train Loss: 0.0257, Autoencoder Val Loss: 0.0170, Classifier Train Loss: 0.2100, Classifier Val Loss: 0.5447, Classifier Train Accuracy: 90.60%, Classifier Val Accuracy: 81.60%\n",
            "Epoch [13/100], Autoencoder Train Loss: 0.0245, Autoencoder Val Loss: 0.0154, Classifier Train Loss: 0.2221, Classifier Val Loss: 0.5023, Classifier Train Accuracy: 90.60%, Classifier Val Accuracy: 84.15%\n",
            "Epoch [14/100], Autoencoder Train Loss: 0.0234, Autoencoder Val Loss: 0.0148, Classifier Train Loss: 0.1979, Classifier Val Loss: 0.5365, Classifier Train Accuracy: 91.09%, Classifier Val Accuracy: 82.33%\n",
            "Epoch [15/100], Autoencoder Train Loss: 0.0232, Autoencoder Val Loss: 0.0144, Classifier Train Loss: 0.1898, Classifier Val Loss: 0.6526, Classifier Train Accuracy: 91.27%, Classifier Val Accuracy: 81.60%\n",
            "Epoch [16/100], Autoencoder Train Loss: 0.0214, Autoencoder Val Loss: 0.0140, Classifier Train Loss: 0.1777, Classifier Val Loss: 0.5383, Classifier Train Accuracy: 91.45%, Classifier Val Accuracy: 81.79%\n",
            "Epoch [17/100], Autoencoder Train Loss: 0.0209, Autoencoder Val Loss: 0.0137, Classifier Train Loss: 0.1618, Classifier Val Loss: 0.5726, Classifier Train Accuracy: 92.54%, Classifier Val Accuracy: 81.97%\n",
            "Epoch [18/100], Autoencoder Train Loss: 0.0203, Autoencoder Val Loss: 0.0134, Classifier Train Loss: 0.1678, Classifier Val Loss: 0.5645, Classifier Train Accuracy: 91.93%, Classifier Val Accuracy: 81.79%\n",
            "Epoch [19/100], Autoencoder Train Loss: 0.0197, Autoencoder Val Loss: 0.0132, Classifier Train Loss: 0.1584, Classifier Val Loss: 0.5298, Classifier Train Accuracy: 91.33%, Classifier Val Accuracy: 82.70%\n",
            "Epoch [20/100], Autoencoder Train Loss: 0.0194, Autoencoder Val Loss: 0.0130, Classifier Train Loss: 0.1605, Classifier Val Loss: 0.5427, Classifier Train Accuracy: 92.00%, Classifier Val Accuracy: 82.88%\n",
            "Epoch [21/100], Autoencoder Train Loss: 0.0193, Autoencoder Val Loss: 0.0127, Classifier Train Loss: 0.1486, Classifier Val Loss: 0.5522, Classifier Train Accuracy: 92.24%, Classifier Val Accuracy: 81.60%\n",
            "Epoch [22/100], Autoencoder Train Loss: 0.0187, Autoencoder Val Loss: 0.0124, Classifier Train Loss: 0.1489, Classifier Val Loss: 0.5576, Classifier Train Accuracy: 93.03%, Classifier Val Accuracy: 83.79%\n",
            "Epoch [23/100], Autoencoder Train Loss: 0.0183, Autoencoder Val Loss: 0.0123, Classifier Train Loss: 0.1491, Classifier Val Loss: 0.6810, Classifier Train Accuracy: 92.30%, Classifier Val Accuracy: 82.51%\n",
            "Epoch [24/100], Autoencoder Train Loss: 0.0179, Autoencoder Val Loss: 0.0120, Classifier Train Loss: 0.1501, Classifier Val Loss: 0.5077, Classifier Train Accuracy: 92.24%, Classifier Val Accuracy: 82.51%\n",
            "Epoch [25/100], Autoencoder Train Loss: 0.0176, Autoencoder Val Loss: 0.0118, Classifier Train Loss: 0.1469, Classifier Val Loss: 0.5215, Classifier Train Accuracy: 92.30%, Classifier Val Accuracy: 81.79%\n",
            "Epoch [26/100], Autoencoder Train Loss: 0.0176, Autoencoder Val Loss: 0.0116, Classifier Train Loss: 0.1466, Classifier Val Loss: 0.5120, Classifier Train Accuracy: 92.42%, Classifier Val Accuracy: 82.88%\n",
            "Epoch [27/100], Autoencoder Train Loss: 0.0170, Autoencoder Val Loss: 0.0114, Classifier Train Loss: 0.1323, Classifier Val Loss: 0.5867, Classifier Train Accuracy: 92.72%, Classifier Val Accuracy: 82.15%\n",
            "Epoch [28/100], Autoencoder Train Loss: 0.0169, Autoencoder Val Loss: 0.0116, Classifier Train Loss: 0.1361, Classifier Val Loss: 0.5785, Classifier Train Accuracy: 92.72%, Classifier Val Accuracy: 82.88%\n",
            "Epoch [29/100], Autoencoder Train Loss: 0.0167, Autoencoder Val Loss: 0.0115, Classifier Train Loss: 0.1380, Classifier Val Loss: 0.5929, Classifier Train Accuracy: 92.60%, Classifier Val Accuracy: 81.97%\n",
            "Epoch [30/100], Autoencoder Train Loss: 0.0166, Autoencoder Val Loss: 0.0112, Classifier Train Loss: 0.1368, Classifier Val Loss: 0.5848, Classifier Train Accuracy: 92.36%, Classifier Val Accuracy: 82.15%\n",
            "Epoch [31/100], Autoencoder Train Loss: 0.0159, Autoencoder Val Loss: 0.0107, Classifier Train Loss: 0.1237, Classifier Val Loss: 0.6020, Classifier Train Accuracy: 93.94%, Classifier Val Accuracy: 81.79%\n",
            "Epoch [32/100], Autoencoder Train Loss: 0.0154, Autoencoder Val Loss: 0.0106, Classifier Train Loss: 0.1312, Classifier Val Loss: 0.5944, Classifier Train Accuracy: 92.66%, Classifier Val Accuracy: 82.15%\n",
            "Epoch [33/100], Autoencoder Train Loss: 0.0156, Autoencoder Val Loss: 0.0106, Classifier Train Loss: 0.1316, Classifier Val Loss: 0.5876, Classifier Train Accuracy: 93.03%, Classifier Val Accuracy: 82.15%\n",
            "Epoch [34/100], Autoencoder Train Loss: 0.0151, Autoencoder Val Loss: 0.0104, Classifier Train Loss: 0.1289, Classifier Val Loss: 0.6751, Classifier Train Accuracy: 92.78%, Classifier Val Accuracy: 82.15%\n",
            "Epoch [35/100], Autoencoder Train Loss: 0.0152, Autoencoder Val Loss: 0.0106, Classifier Train Loss: 0.1263, Classifier Val Loss: 0.6861, Classifier Train Accuracy: 93.45%, Classifier Val Accuracy: 82.15%\n",
            "Epoch [36/100], Autoencoder Train Loss: 0.0150, Autoencoder Val Loss: 0.0100, Classifier Train Loss: 0.1226, Classifier Val Loss: 0.6489, Classifier Train Accuracy: 93.21%, Classifier Val Accuracy: 82.15%\n",
            "Epoch [37/100], Autoencoder Train Loss: 0.0145, Autoencoder Val Loss: 0.0100, Classifier Train Loss: 0.1202, Classifier Val Loss: 0.6899, Classifier Train Accuracy: 93.15%, Classifier Val Accuracy: 82.15%\n",
            "Epoch [38/100], Autoencoder Train Loss: 0.0147, Autoencoder Val Loss: 0.0105, Classifier Train Loss: 0.1198, Classifier Val Loss: 0.5661, Classifier Train Accuracy: 93.33%, Classifier Val Accuracy: 82.33%\n",
            "Epoch [39/100], Autoencoder Train Loss: 0.0148, Autoencoder Val Loss: 0.0103, Classifier Train Loss: 0.1161, Classifier Val Loss: 0.6744, Classifier Train Accuracy: 93.51%, Classifier Val Accuracy: 82.88%\n",
            "Epoch [40/100], Autoencoder Train Loss: 0.0143, Autoencoder Val Loss: 0.0106, Classifier Train Loss: 0.1174, Classifier Val Loss: 0.6783, Classifier Train Accuracy: 93.45%, Classifier Val Accuracy: 83.06%\n",
            "Epoch [41/100], Autoencoder Train Loss: 0.0148, Autoencoder Val Loss: 0.0094, Classifier Train Loss: 0.1208, Classifier Val Loss: 0.6072, Classifier Train Accuracy: 93.69%, Classifier Val Accuracy: 82.15%\n",
            "Epoch [42/100], Autoencoder Train Loss: 0.0141, Autoencoder Val Loss: 0.0093, Classifier Train Loss: 0.1269, Classifier Val Loss: 0.5867, Classifier Train Accuracy: 93.33%, Classifier Val Accuracy: 81.24%\n",
            "Epoch [43/100], Autoencoder Train Loss: 0.0134, Autoencoder Val Loss: 0.0092, Classifier Train Loss: 0.1118, Classifier Val Loss: 0.7070, Classifier Train Accuracy: 93.39%, Classifier Val Accuracy: 82.51%\n",
            "Epoch [44/100], Autoencoder Train Loss: 0.0136, Autoencoder Val Loss: 0.0092, Classifier Train Loss: 0.1197, Classifier Val Loss: 0.7040, Classifier Train Accuracy: 93.27%, Classifier Val Accuracy: 81.97%\n",
            "Epoch [45/100], Autoencoder Train Loss: 0.0134, Autoencoder Val Loss: 0.0093, Classifier Train Loss: 0.1222, Classifier Val Loss: 0.6066, Classifier Train Accuracy: 93.15%, Classifier Val Accuracy: 81.24%\n",
            "Epoch [46/100], Autoencoder Train Loss: 0.0131, Autoencoder Val Loss: 0.0090, Classifier Train Loss: 0.1162, Classifier Val Loss: 0.5927, Classifier Train Accuracy: 93.63%, Classifier Val Accuracy: 82.15%\n",
            "Epoch [47/100], Autoencoder Train Loss: 0.0132, Autoencoder Val Loss: 0.0092, Classifier Train Loss: 0.1093, Classifier Val Loss: 0.7165, Classifier Train Accuracy: 93.51%, Classifier Val Accuracy: 82.15%\n",
            "Epoch [48/100], Autoencoder Train Loss: 0.0131, Autoencoder Val Loss: 0.0089, Classifier Train Loss: 0.1099, Classifier Val Loss: 0.6264, Classifier Train Accuracy: 93.33%, Classifier Val Accuracy: 82.88%\n",
            "Epoch [49/100], Autoencoder Train Loss: 0.0129, Autoencoder Val Loss: 0.0089, Classifier Train Loss: 0.1078, Classifier Val Loss: 0.6817, Classifier Train Accuracy: 93.45%, Classifier Val Accuracy: 81.97%\n",
            "Epoch [50/100], Autoencoder Train Loss: 0.0128, Autoencoder Val Loss: 0.0088, Classifier Train Loss: 0.1063, Classifier Val Loss: 0.6768, Classifier Train Accuracy: 94.30%, Classifier Val Accuracy: 82.88%\n",
            "Epoch [51/100], Autoencoder Train Loss: 0.0128, Autoencoder Val Loss: 0.0088, Classifier Train Loss: 0.1152, Classifier Val Loss: 0.6808, Classifier Train Accuracy: 93.63%, Classifier Val Accuracy: 81.42%\n",
            "Epoch [52/100], Autoencoder Train Loss: 0.0128, Autoencoder Val Loss: 0.0086, Classifier Train Loss: 0.1176, Classifier Val Loss: 0.6967, Classifier Train Accuracy: 93.15%, Classifier Val Accuracy: 82.33%\n",
            "Epoch [53/100], Autoencoder Train Loss: 0.0127, Autoencoder Val Loss: 0.0090, Classifier Train Loss: 0.1083, Classifier Val Loss: 0.6309, Classifier Train Accuracy: 93.94%, Classifier Val Accuracy: 81.42%\n",
            "Epoch [54/100], Autoencoder Train Loss: 0.0126, Autoencoder Val Loss: 0.0084, Classifier Train Loss: 0.1089, Classifier Val Loss: 0.7221, Classifier Train Accuracy: 93.57%, Classifier Val Accuracy: 81.60%\n",
            "Epoch [55/100], Autoencoder Train Loss: 0.0122, Autoencoder Val Loss: 0.0084, Classifier Train Loss: 0.1117, Classifier Val Loss: 0.6954, Classifier Train Accuracy: 93.94%, Classifier Val Accuracy: 82.51%\n",
            "Epoch [56/100], Autoencoder Train Loss: 0.0124, Autoencoder Val Loss: 0.0088, Classifier Train Loss: 0.1108, Classifier Val Loss: 0.7102, Classifier Train Accuracy: 93.27%, Classifier Val Accuracy: 81.97%\n",
            "Epoch [57/100], Autoencoder Train Loss: 0.0122, Autoencoder Val Loss: 0.0082, Classifier Train Loss: 0.1068, Classifier Val Loss: 0.6661, Classifier Train Accuracy: 93.75%, Classifier Val Accuracy: 82.33%\n",
            "Epoch [58/100], Autoencoder Train Loss: 0.0123, Autoencoder Val Loss: 0.0087, Classifier Train Loss: 0.1093, Classifier Val Loss: 0.7104, Classifier Train Accuracy: 93.75%, Classifier Val Accuracy: 81.60%\n",
            "Epoch [59/100], Autoencoder Train Loss: 0.0123, Autoencoder Val Loss: 0.0084, Classifier Train Loss: 0.1102, Classifier Val Loss: 0.6609, Classifier Train Accuracy: 93.57%, Classifier Val Accuracy: 81.79%\n",
            "Epoch [60/100], Autoencoder Train Loss: 0.0118, Autoencoder Val Loss: 0.0082, Classifier Train Loss: 0.1081, Classifier Val Loss: 0.7121, Classifier Train Accuracy: 92.84%, Classifier Val Accuracy: 82.15%\n",
            "Epoch [61/100], Autoencoder Train Loss: 0.0121, Autoencoder Val Loss: 0.0081, Classifier Train Loss: 0.1113, Classifier Val Loss: 0.6501, Classifier Train Accuracy: 94.60%, Classifier Val Accuracy: 82.33%\n",
            "Epoch [62/100], Autoencoder Train Loss: 0.0117, Autoencoder Val Loss: 0.0080, Classifier Train Loss: 0.1057, Classifier Val Loss: 0.6308, Classifier Train Accuracy: 93.81%, Classifier Val Accuracy: 81.60%\n",
            "Epoch [63/100], Autoencoder Train Loss: 0.0117, Autoencoder Val Loss: 0.0079, Classifier Train Loss: 0.1022, Classifier Val Loss: 0.6792, Classifier Train Accuracy: 93.51%, Classifier Val Accuracy: 81.42%\n",
            "Epoch [64/100], Autoencoder Train Loss: 0.0117, Autoencoder Val Loss: 0.0078, Classifier Train Loss: 0.1052, Classifier Val Loss: 0.7078, Classifier Train Accuracy: 94.24%, Classifier Val Accuracy: 82.70%\n",
            "Epoch [65/100], Autoencoder Train Loss: 0.0114, Autoencoder Val Loss: 0.0079, Classifier Train Loss: 0.1045, Classifier Val Loss: 0.7229, Classifier Train Accuracy: 93.27%, Classifier Val Accuracy: 82.15%\n",
            "Epoch [66/100], Autoencoder Train Loss: 0.0115, Autoencoder Val Loss: 0.0077, Classifier Train Loss: 0.1060, Classifier Val Loss: 0.6929, Classifier Train Accuracy: 93.69%, Classifier Val Accuracy: 82.88%\n",
            "Epoch [67/100], Autoencoder Train Loss: 0.0115, Autoencoder Val Loss: 0.0079, Classifier Train Loss: 0.1033, Classifier Val Loss: 0.6691, Classifier Train Accuracy: 94.18%, Classifier Val Accuracy: 82.15%\n",
            "Epoch [68/100], Autoencoder Train Loss: 0.0110, Autoencoder Val Loss: 0.0076, Classifier Train Loss: 0.1034, Classifier Val Loss: 0.6763, Classifier Train Accuracy: 93.51%, Classifier Val Accuracy: 82.33%\n",
            "Epoch [69/100], Autoencoder Train Loss: 0.0111, Autoencoder Val Loss: 0.0077, Classifier Train Loss: 0.1047, Classifier Val Loss: 0.6531, Classifier Train Accuracy: 93.51%, Classifier Val Accuracy: 82.70%\n",
            "Epoch [70/100], Autoencoder Train Loss: 0.0111, Autoencoder Val Loss: 0.0079, Classifier Train Loss: 0.1020, Classifier Val Loss: 0.7500, Classifier Train Accuracy: 93.57%, Classifier Val Accuracy: 81.60%\n",
            "Epoch [71/100], Autoencoder Train Loss: 0.0113, Autoencoder Val Loss: 0.0076, Classifier Train Loss: 0.1004, Classifier Val Loss: 0.7329, Classifier Train Accuracy: 93.88%, Classifier Val Accuracy: 81.79%\n",
            "Epoch [72/100], Autoencoder Train Loss: 0.0109, Autoencoder Val Loss: 0.0075, Classifier Train Loss: 0.1043, Classifier Val Loss: 0.6849, Classifier Train Accuracy: 93.88%, Classifier Val Accuracy: 82.33%\n",
            "Epoch [73/100], Autoencoder Train Loss: 0.0113, Autoencoder Val Loss: 0.0075, Classifier Train Loss: 0.1015, Classifier Val Loss: 0.6636, Classifier Train Accuracy: 94.00%, Classifier Val Accuracy: 81.42%\n",
            "Epoch [74/100], Autoencoder Train Loss: 0.0110, Autoencoder Val Loss: 0.0075, Classifier Train Loss: 0.1013, Classifier Val Loss: 0.7194, Classifier Train Accuracy: 93.81%, Classifier Val Accuracy: 82.33%\n",
            "Epoch [75/100], Autoencoder Train Loss: 0.0109, Autoencoder Val Loss: 0.0076, Classifier Train Loss: 0.1001, Classifier Val Loss: 0.6980, Classifier Train Accuracy: 93.94%, Classifier Val Accuracy: 81.97%\n",
            "Epoch [76/100], Autoencoder Train Loss: 0.0109, Autoencoder Val Loss: 0.0074, Classifier Train Loss: 0.1005, Classifier Val Loss: 0.7206, Classifier Train Accuracy: 93.57%, Classifier Val Accuracy: 81.97%\n",
            "Epoch [77/100], Autoencoder Train Loss: 0.0109, Autoencoder Val Loss: 0.0074, Classifier Train Loss: 0.0981, Classifier Val Loss: 0.8124, Classifier Train Accuracy: 93.39%, Classifier Val Accuracy: 82.15%\n",
            "Epoch [78/100], Autoencoder Train Loss: 0.0107, Autoencoder Val Loss: 0.0072, Classifier Train Loss: 0.0994, Classifier Val Loss: 0.8072, Classifier Train Accuracy: 93.81%, Classifier Val Accuracy: 81.06%\n",
            "Epoch [79/100], Autoencoder Train Loss: 0.0112, Autoencoder Val Loss: 0.0078, Classifier Train Loss: 0.0990, Classifier Val Loss: 0.6987, Classifier Train Accuracy: 93.69%, Classifier Val Accuracy: 82.15%\n",
            "Epoch [80/100], Autoencoder Train Loss: 0.0106, Autoencoder Val Loss: 0.0071, Classifier Train Loss: 0.0972, Classifier Val Loss: 0.7316, Classifier Train Accuracy: 93.94%, Classifier Val Accuracy: 81.79%\n",
            "Epoch [81/100], Autoencoder Train Loss: 0.0106, Autoencoder Val Loss: 0.0074, Classifier Train Loss: 0.1001, Classifier Val Loss: 0.7170, Classifier Train Accuracy: 94.00%, Classifier Val Accuracy: 81.79%\n",
            "Epoch [82/100], Autoencoder Train Loss: 0.0104, Autoencoder Val Loss: 0.0071, Classifier Train Loss: 0.0996, Classifier Val Loss: 0.7314, Classifier Train Accuracy: 93.69%, Classifier Val Accuracy: 81.97%\n",
            "Epoch [83/100], Autoencoder Train Loss: 0.0105, Autoencoder Val Loss: 0.0070, Classifier Train Loss: 0.0987, Classifier Val Loss: 0.7405, Classifier Train Accuracy: 93.88%, Classifier Val Accuracy: 80.87%\n",
            "Epoch [84/100], Autoencoder Train Loss: 0.0101, Autoencoder Val Loss: 0.0071, Classifier Train Loss: 0.0986, Classifier Val Loss: 0.7489, Classifier Train Accuracy: 93.88%, Classifier Val Accuracy: 81.79%\n",
            "Epoch [85/100], Autoencoder Train Loss: 0.0105, Autoencoder Val Loss: 0.0070, Classifier Train Loss: 0.0976, Classifier Val Loss: 0.7434, Classifier Train Accuracy: 93.69%, Classifier Val Accuracy: 81.79%\n",
            "Epoch [86/100], Autoencoder Train Loss: 0.0113, Autoencoder Val Loss: 0.0071, Classifier Train Loss: 0.0965, Classifier Val Loss: 0.7308, Classifier Train Accuracy: 94.18%, Classifier Val Accuracy: 81.42%\n",
            "Epoch [87/100], Autoencoder Train Loss: 0.0105, Autoencoder Val Loss: 0.0077, Classifier Train Loss: 0.0985, Classifier Val Loss: 0.7504, Classifier Train Accuracy: 94.06%, Classifier Val Accuracy: 81.24%\n",
            "Epoch [88/100], Autoencoder Train Loss: 0.0103, Autoencoder Val Loss: 0.0068, Classifier Train Loss: 0.0985, Classifier Val Loss: 0.7198, Classifier Train Accuracy: 93.88%, Classifier Val Accuracy: 81.97%\n",
            "Epoch [89/100], Autoencoder Train Loss: 0.0099, Autoencoder Val Loss: 0.0068, Classifier Train Loss: 0.1040, Classifier Val Loss: 0.7304, Classifier Train Accuracy: 93.88%, Classifier Val Accuracy: 81.79%\n",
            "Epoch [90/100], Autoencoder Train Loss: 0.0100, Autoencoder Val Loss: 0.0073, Classifier Train Loss: 0.1016, Classifier Val Loss: 0.7351, Classifier Train Accuracy: 93.57%, Classifier Val Accuracy: 82.51%\n",
            "Epoch [91/100], Autoencoder Train Loss: 0.0101, Autoencoder Val Loss: 0.0068, Classifier Train Loss: 0.0981, Classifier Val Loss: 0.7366, Classifier Train Accuracy: 93.81%, Classifier Val Accuracy: 81.79%\n",
            "Epoch [92/100], Autoencoder Train Loss: 0.0098, Autoencoder Val Loss: 0.0067, Classifier Train Loss: 0.0991, Classifier Val Loss: 0.7291, Classifier Train Accuracy: 93.51%, Classifier Val Accuracy: 82.51%\n",
            "Epoch [93/100], Autoencoder Train Loss: 0.0100, Autoencoder Val Loss: 0.0067, Classifier Train Loss: 0.0892, Classifier Val Loss: 0.7949, Classifier Train Accuracy: 94.24%, Classifier Val Accuracy: 81.79%\n",
            "Epoch [94/100], Autoencoder Train Loss: 0.0098, Autoencoder Val Loss: 0.0066, Classifier Train Loss: 0.0947, Classifier Val Loss: 0.7890, Classifier Train Accuracy: 93.94%, Classifier Val Accuracy: 82.15%\n",
            "Epoch [95/100], Autoencoder Train Loss: 0.0095, Autoencoder Val Loss: 0.0067, Classifier Train Loss: 0.0982, Classifier Val Loss: 0.6939, Classifier Train Accuracy: 93.94%, Classifier Val Accuracy: 81.79%\n",
            "Epoch [96/100], Autoencoder Train Loss: 0.0097, Autoencoder Val Loss: 0.0068, Classifier Train Loss: 0.0972, Classifier Val Loss: 0.7744, Classifier Train Accuracy: 94.24%, Classifier Val Accuracy: 81.79%\n",
            "Epoch [97/100], Autoencoder Train Loss: 0.0094, Autoencoder Val Loss: 0.0065, Classifier Train Loss: 0.0968, Classifier Val Loss: 0.7423, Classifier Train Accuracy: 93.75%, Classifier Val Accuracy: 82.33%\n",
            "Epoch [98/100], Autoencoder Train Loss: 0.0096, Autoencoder Val Loss: 0.0065, Classifier Train Loss: 0.0951, Classifier Val Loss: 0.7420, Classifier Train Accuracy: 94.42%, Classifier Val Accuracy: 81.97%\n",
            "Epoch [99/100], Autoencoder Train Loss: 0.0091, Autoencoder Val Loss: 0.0065, Classifier Train Loss: 0.0930, Classifier Val Loss: 0.7979, Classifier Train Accuracy: 93.39%, Classifier Val Accuracy: 81.42%\n",
            "Epoch [100/100], Autoencoder Train Loss: 0.0098, Autoencoder Val Loss: 0.0065, Classifier Train Loss: 0.0906, Classifier Val Loss: 0.7533, Classifier Train Accuracy: 94.06%, Classifier Val Accuracy: 82.88%\n"
          ]
        },
        {
          "output_type": "display_data",
          "data": {
            "text/plain": [
              "<Figure size 1200x500 with 2 Axes>"
            ],
            "image/png": "[encoded data removed]"
          },
          "metadata": {}
        }
      ]
    },
    {
      "cell_type": "code",
      "source": [
        "# Evaluate the model on the test set\n",
        "test_loss = 0.0\n",
        "autoencoder.eval()\n",
        "with torch.no_grad():\n",
        "    for images in test_loader:\n",
        "        outputs = autoencoder(images)\n",
        "        loss = criterion_autoencoder(outputs, images)\n",
        "        test_loss += loss.item() * images.size(0)\n",
        "    test_loss = test_loss / len(test_loader.dataset)\n",
        "print(f'Average Test Loss: {test_loss:.4f}')"
      ],
      "metadata": {
        "colab": {
          "base_uri": "https://localhost:8080/"
        },
        "outputId": "df504f8e-7637-49f3-86ec-72b3cbfd8365",
        "id": "X5Ksql4fBAEm"
      },
      "execution_count": null,
      "outputs": [
        {
          "output_type": "stream",
          "name": "stdout",
          "text": [
            "Average Test Loss: 0.0065\n"
          ]
        }
      ]
    },
    {
      "cell_type": "code",
      "source": [],
      "metadata": {
        "id": "JREtyJA9AavP"
      },
      "execution_count": null,
      "outputs": []
    },
    {
      "cell_type": "markdown",
      "source": [
        "##Question 3:\n",
        "\n",
        "(5.0 points) Select an attribute from the Emoji dataset (internal or external to your selected subset) to compose with any image from your selected subset. Use vector arithmetic on latent representations to generate a composite image that expresses the attribute. For example, I chose to add the glasses from “nerd face” to the “face with stuck out tongue”:\n",
        "\n",
        "a. specify which attribute you selected, the vector arithmetic applied and the\n",
        "resulting image(s) as displayed above,\n",
        "\n",
        "b. provide a qualitative evaluation of your composite image, and\n",
        "\n",
        "c. discuss ways to improve the quality of your generated image.\n",
        "\n",
        "\n",
        "##Answer:\n",
        "\n",
        "**a. Attribute, Vector Arithmetic, and Resulting Image:**\n",
        "\n",
        "The selected attributes for composition are from the **\"smiling face with halo\"** and **\"smiling face with horns\"** emojis. The vector arithmetic applied involves generating latent representations for both emojis using a model's encoder, then performing a simple addition of these latent representations without weighting (as indicated by composite_latent_rep = latent_rep1 + latent_rep2).\n",
        "\n",
        "The resulting image, is an emoji that presumably combines features of both source emojis—integrating aspects of innocence or purity (halo) with mischievous or devilish elements (horns) [Agathokakological].\n",
        "\n",
        "\n",
        "**b. Qualitative Evaluation of the Composite Image:**\n",
        "\n",
        "The emoji  represents a balance between the contrasting attributes of angelic and devilish natures. The success of such a blend is due to the model's ability to capture and recombine the variations of the source images' features in the latent space.\n",
        "\n",
        "**c. Ways to Improve the Quality of the Generated Image**\n",
        "\n",
        "Improving the quality of the generated image could be approached from several angles:\n",
        "\n",
        "1. Refinement of Vector Arithmetic: Adjusting the blending factor (alpha) in the vector arithmetic could allow for more control over the contribution of each source image's attributes to the final composite.\n",
        "\n",
        "2. Enhanced Preprocessing: The quality of the input images can significantly impact the final output. Ensuring that the images are preprocessed uniformly (e.g., resized accurately, color corrected) can help maintain consistency in the generated image.\n",
        "\n",
        "3. Model Training and Architecture Adjustments: The capability of the model, particularly the encoder and decoder's effectiveness in capturing and reconstructing image features, is crucial.\n"
      ],
      "metadata": {
        "id": "BBcLMYgDtOCT"
      }
    },
    {
      "cell_type": "code",
      "source": [
        "import torch\n",
        "from torchvision import transforms\n",
        "from PIL import Image\n",
        "import io\n",
        "\n",
        "filtered_row2 = df[df['text'] == \"smiling face with halo\"].iloc[0]\n",
        "filtered_row1 = df[df['text'] == \"smiling face with horns\"].iloc[0]\n",
        "img_bytes1 = filtered_row1[\"image\"][\"bytes\"]\n",
        "img_bytes2 = filtered_row2[\"image\"][\"bytes\"]\n",
        "# img_bytes = df.iloc[0][\"image\"][\"bytes\"]\n",
        "\n",
        "img1 = Image.open(io.BytesIO(img_bytes1))\n",
        "img2 = Image.open(io.BytesIO(img_bytes2))\n",
        "\n",
        "transform = transforms.Compose([\n",
        "    transforms.Resize((64, 64)),\n",
        "    transforms.ToTensor()\n",
        "])\n",
        "\n",
        "img_tensor1 = transform(img1)\n",
        "img_tensor2 = transform(img2)\n",
        "\n",
        "\n",
        "print(img_tensor1)\n",
        "print(img_tensor2)\n"
      ],
      "metadata": {
        "id": "nCxhFblAAcpD",
        "colab": {
          "base_uri": "https://localhost:8080/"
        },
        "outputId": "04f20007-d10b-4a48-b98f-4393812e6e0a"
      },
      "execution_count": null,
      "outputs": [
        {
          "output_type": "stream",
          "name": "stdout",
          "text": [
            "tensor([[[0.9725, 0.7333, 0.6471,  ..., 0.7294, 0.6392, 0.9333],\n",
            "         [0.8235, 0.4000, 0.3843,  ..., 0.4157, 0.3843, 0.7804],\n",
            "         [0.7804, 0.3529, 0.3529,  ..., 0.3765, 0.3294, 0.5765],\n",
            "         ...,\n",
            "         [1.0000, 1.0000, 1.0000,  ..., 1.0000, 1.0000, 1.0000],\n",
            "         [1.0000, 1.0000, 1.0000,  ..., 1.0000, 1.0000, 1.0000],\n",
            "         [1.0000, 1.0000, 1.0000,  ..., 1.0000, 1.0000, 1.0000]],\n",
            "\n",
            "        [[0.9686, 0.6314, 0.5020,  ..., 0.6039, 0.4824, 0.9098],\n",
            "         [0.7725, 0.1725, 0.1176,  ..., 0.1569, 0.1490, 0.7098],\n",
            "         [0.7098, 0.1098, 0.0902,  ..., 0.1216, 0.0980, 0.4667],\n",
            "         ...,\n",
            "         [1.0000, 1.0000, 1.0000,  ..., 1.0000, 1.0000, 1.0000],\n",
            "         [1.0000, 1.0000, 1.0000,  ..., 1.0000, 1.0000, 1.0000],\n",
            "         [1.0000, 1.0000, 1.0000,  ..., 1.0000, 1.0000, 1.0000]],\n",
            "\n",
            "        [[0.9765, 0.7451, 0.6745,  ..., 0.7647, 0.6706, 0.9412],\n",
            "         [0.8353, 0.4314, 0.4431,  ..., 0.4941, 0.4392, 0.7922],\n",
            "         [0.7922, 0.3843, 0.4078,  ..., 0.4510, 0.3882, 0.6078],\n",
            "         ...,\n",
            "         [1.0000, 1.0000, 1.0000,  ..., 1.0000, 1.0000, 1.0000],\n",
            "         [1.0000, 1.0000, 1.0000,  ..., 1.0000, 1.0000, 1.0000],\n",
            "         [1.0000, 1.0000, 1.0000,  ..., 1.0000, 1.0000, 1.0000]]])\n",
            "tensor([[[0.9961, 0.9922, 0.9882,  ..., 0.9922, 0.9922, 0.9922],\n",
            "         [0.9961, 0.9922, 0.9882,  ..., 0.9922, 0.9922, 0.9922],\n",
            "         [0.9961, 0.9922, 0.9843,  ..., 0.9882, 0.9922, 0.9922],\n",
            "         ...,\n",
            "         [1.0000, 1.0000, 1.0000,  ..., 1.0000, 1.0000, 1.0000],\n",
            "         [1.0000, 1.0000, 1.0000,  ..., 1.0000, 1.0000, 1.0000],\n",
            "         [1.0000, 1.0000, 1.0000,  ..., 1.0000, 1.0000, 1.0000]],\n",
            "\n",
            "        [[1.0000, 1.0000, 1.0000,  ..., 1.0000, 1.0000, 1.0000],\n",
            "         [1.0000, 1.0000, 1.0000,  ..., 1.0000, 1.0000, 1.0000],\n",
            "         [1.0000, 1.0000, 1.0000,  ..., 1.0000, 1.0000, 1.0000],\n",
            "         ...,\n",
            "         [1.0000, 1.0000, 1.0000,  ..., 1.0000, 1.0000, 1.0000],\n",
            "         [1.0000, 1.0000, 1.0000,  ..., 1.0000, 1.0000, 1.0000],\n",
            "         [1.0000, 1.0000, 1.0000,  ..., 1.0000, 1.0000, 1.0000]],\n",
            "\n",
            "        [[1.0000, 1.0000, 1.0000,  ..., 1.0000, 1.0000, 1.0000],\n",
            "         [1.0000, 1.0000, 1.0000,  ..., 1.0000, 1.0000, 1.0000],\n",
            "         [1.0000, 1.0000, 1.0000,  ..., 1.0000, 1.0000, 1.0000],\n",
            "         ...,\n",
            "         [1.0000, 1.0000, 1.0000,  ..., 1.0000, 1.0000, 1.0000],\n",
            "         [1.0000, 1.0000, 1.0000,  ..., 1.0000, 1.0000, 1.0000],\n",
            "         [1.0000, 1.0000, 1.0000,  ..., 1.0000, 1.0000, 1.0000]]])\n"
          ]
        }
      ]
    },
    {
      "cell_type": "code",
      "source": [
        "def generate_latent_representation(image, model):\n",
        "    model.eval()\n",
        "    with torch.no_grad():\n",
        "        output = model.encoder(image.unsqueeze(0))\n",
        "    return output.squeeze(0)\n",
        "\n",
        "\n",
        "latent_rep1 = generate_latent_representation(img_tensor1, model)\n",
        "latent_rep2 = generate_latent_representation(img_tensor2, model)\n",
        "\n",
        "def perform_vector_arithmetic(latent_rep_1, latent_rep_2, alpha):\n",
        "\n",
        "    # composite_latent_rep = (1 - alpha) * latent_rep_1 + alpha * latent_rep_2\n",
        "    composite_latent_rep = latent_rep_1 + latent_rep_2\n",
        "    return composite_latent_rep\n",
        "\n",
        "\n",
        "composite_latent_rep = perform_vector_arithmetic(latent_rep1, latent_rep2, 0.5)\n",
        "# print(composite_latent_rep.shape)\n",
        "\n",
        "def generate_image_from_latent_rep(composite_latent_rep, model):\n",
        "    model.eval()\n",
        "    with torch.no_grad():\n",
        "\n",
        "        output = model.decoder(composite_latent_rep.unsqueeze(0))\n",
        "    output = output.squeeze(0)\n",
        "    output = torch.clamp(output, 0, 1)\n",
        "    return output\n",
        "\n",
        "output_image_tensor = generate_image_from_latent_rep(composite_latent_rep, model)\n",
        "\n",
        "output_image_pil = transforms.ToPILImage()(output_image_tensor.cpu())\n",
        "\n",
        "output_image_pil"
      ],
      "metadata": {
        "id": "iWnmEQu-41Xt",
        "colab": {
          "base_uri": "https://localhost:8080/",
          "height": 81
        },
        "outputId": "e72893f3-a915-47d4-91ba-a28b9f092a6d"
      },
      "execution_count": null,
      "outputs": [
        {
          "output_type": "execute_result",
          "data": {
            "text/plain": [
              "<PIL.Image.Image image mode=RGB size=64x64>"
            ],
            "image/png": "[encoded data removed]"
          },
          "metadata": {},
          "execution_count": 78
        }
      ]
    },
    {
      "cell_type": "markdown",
      "source": [
        "iteration 2:"
      ],
      "metadata": {
        "id": "HJW5fYxqOQdf"
      }
    },
    {
      "cell_type": "code",
      "source": [
        "import torch\n",
        "from torchvision import transforms\n",
        "from PIL import Image\n",
        "import io\n",
        "\n",
        "filtered_row2 = df[df['text'] == \"man mage light skin tone\"].iloc[0]\n",
        "filtered_row1 = df[df['text'] == \"man mage\"].iloc[0]\n",
        "img_bytes1 = filtered_row1[\"image\"][\"bytes\"]\n",
        "img_bytes2 = filtered_row2[\"image\"][\"bytes\"]\n",
        "\n",
        "\n",
        "img1 = Image.open(io.BytesIO(img_bytes1))\n",
        "img2 = Image.open(io.BytesIO(img_bytes2))\n",
        "\n",
        "transform = transforms.Compose([\n",
        "    transforms.Resize((64, 64)),\n",
        "    transforms.ToTensor()\n",
        "])\n",
        "\n",
        "img_tensor1 = transform(img1)\n",
        "img_tensor2 = transform(img2)\n",
        "\n",
        "\n",
        "print(img_tensor1)\n",
        "print(img_tensor2)\n"
      ],
      "metadata": {
        "colab": {
          "base_uri": "https://localhost:8080/"
        },
        "id": "BG9kH0B_GRO-",
        "outputId": "da7cc444-f7f4-4de0-8f33-c91d8b4d599b"
      },
      "execution_count": null,
      "outputs": [
        {
          "output_type": "stream",
          "name": "stdout",
          "text": [
            "tensor([[[1.0000, 1.0000, 1.0000,  ..., 1.0000, 1.0000, 1.0000],\n",
            "         [1.0000, 1.0000, 1.0000,  ..., 1.0000, 1.0000, 1.0000],\n",
            "         [1.0000, 1.0000, 1.0000,  ..., 1.0000, 1.0000, 1.0000],\n",
            "         ...,\n",
            "         [0.9922, 0.9922, 0.9922,  ..., 1.0000, 1.0000, 1.0000],\n",
            "         [0.9961, 0.9961, 0.9922,  ..., 1.0000, 1.0000, 1.0000],\n",
            "         [0.9961, 0.9961, 0.9922,  ..., 1.0000, 1.0000, 1.0000]],\n",
            "\n",
            "        [[1.0000, 1.0000, 1.0000,  ..., 1.0000, 1.0000, 1.0000],\n",
            "         [1.0000, 1.0000, 1.0000,  ..., 1.0000, 1.0000, 1.0000],\n",
            "         [1.0000, 1.0000, 1.0000,  ..., 1.0000, 1.0000, 1.0000],\n",
            "         ...,\n",
            "         [1.0000, 1.0000, 1.0000,  ..., 1.0000, 1.0000, 1.0000],\n",
            "         [1.0000, 1.0000, 1.0000,  ..., 1.0000, 1.0000, 1.0000],\n",
            "         [1.0000, 1.0000, 1.0000,  ..., 1.0000, 1.0000, 1.0000]],\n",
            "\n",
            "        [[1.0000, 1.0000, 1.0000,  ..., 1.0000, 1.0000, 1.0000],\n",
            "         [1.0000, 1.0000, 1.0000,  ..., 1.0000, 1.0000, 1.0000],\n",
            "         [1.0000, 1.0000, 1.0000,  ..., 1.0000, 1.0000, 1.0000],\n",
            "         ...,\n",
            "         [1.0000, 1.0000, 1.0000,  ..., 1.0000, 1.0000, 1.0000],\n",
            "         [1.0000, 1.0000, 1.0000,  ..., 1.0000, 1.0000, 1.0000],\n",
            "         [1.0000, 1.0000, 1.0000,  ..., 1.0000, 1.0000, 1.0000]]])\n",
            "tensor([[[1.0000, 1.0000, 1.0000,  ..., 1.0000, 1.0000, 1.0000],\n",
            "         [1.0000, 1.0000, 1.0000,  ..., 1.0000, 1.0000, 1.0000],\n",
            "         [1.0000, 1.0000, 1.0000,  ..., 1.0000, 1.0000, 1.0000],\n",
            "         ...,\n",
            "         [0.9922, 0.9882, 0.9882,  ..., 1.0000, 1.0000, 0.9961],\n",
            "         [0.9922, 0.9882, 0.9843,  ..., 1.0000, 1.0000, 0.9961],\n",
            "         [0.9882, 0.9882, 0.9843,  ..., 1.0000, 1.0000, 0.9961]],\n",
            "\n",
            "        [[1.0000, 1.0000, 1.0000,  ..., 1.0000, 1.0000, 1.0000],\n",
            "         [1.0000, 1.0000, 1.0000,  ..., 1.0000, 1.0000, 1.0000],\n",
            "         [1.0000, 1.0000, 1.0000,  ..., 1.0000, 1.0000, 1.0000],\n",
            "         ...,\n",
            "         [1.0000, 1.0000, 1.0000,  ..., 1.0000, 1.0000, 1.0000],\n",
            "         [1.0000, 1.0000, 1.0000,  ..., 1.0000, 1.0000, 1.0000],\n",
            "         [1.0000, 1.0000, 1.0000,  ..., 1.0000, 1.0000, 1.0000]],\n",
            "\n",
            "        [[1.0000, 1.0000, 1.0000,  ..., 1.0000, 1.0000, 1.0000],\n",
            "         [1.0000, 1.0000, 1.0000,  ..., 1.0000, 1.0000, 1.0000],\n",
            "         [1.0000, 1.0000, 1.0000,  ..., 1.0000, 1.0000, 1.0000],\n",
            "         ...,\n",
            "         [1.0000, 1.0000, 1.0000,  ..., 1.0000, 1.0000, 1.0000],\n",
            "         [1.0000, 1.0000, 1.0000,  ..., 1.0000, 1.0000, 1.0000],\n",
            "         [1.0000, 1.0000, 1.0000,  ..., 1.0000, 1.0000, 1.0000]]])\n"
          ]
        }
      ]
    },
    {
      "cell_type": "code",
      "source": [
        "def generate_latent_representation(image, model):\n",
        "    model.eval()\n",
        "    with torch.no_grad():\n",
        "        output = model.encoder(image.unsqueeze(0))\n",
        "    return output.squeeze(0)\n",
        "\n",
        "latent_rep1 = generate_latent_representation(img_tensor1, model)\n",
        "latent_rep2 = generate_latent_representation(img_tensor2, model)\n",
        "\n",
        "def perform_vector_arithmetic(latent_rep_1, latent_rep_2, alpha):\n",
        "\n",
        "    # composite_latent_rep = (1 - alpha) * latent_rep_1 + alpha * latent_rep_2\n",
        "    composite_latent_rep = latent_rep_1 + latent_rep_2\n",
        "    return composite_latent_rep\n",
        "\n",
        "\n",
        "composite_latent_rep = perform_vector_arithmetic(latent_rep1, latent_rep2, 0.5)\n",
        "# print(composite_latent_rep.shape)\n",
        "\n",
        "def generate_image_from_latent_rep(composite_latent_rep, model):\n",
        "    model.eval()\n",
        "    with torch.no_grad():\n",
        "        output = model.decoder(composite_latent_rep.unsqueeze(0))\n",
        "    output = output.squeeze(0)\n",
        "    output = torch.clamp(output, 0, 1)\n",
        "    return output\n",
        "\n",
        "output_image_tensor = generate_image_from_latent_rep(composite_latent_rep, model)\n",
        "\n",
        "output_image_pil = transforms.ToPILImage()(output_image_tensor.cpu())\n",
        "\n",
        "output_image_pil"
      ],
      "metadata": {
        "colab": {
          "base_uri": "https://localhost:8080/",
          "height": 81
        },
        "id": "MhiyVG5_P3lb",
        "outputId": "588bbf07-c309-4c52-ee5a-09497693aa26"
      },
      "execution_count": null,
      "outputs": [
        {
          "output_type": "execute_result",
          "data": {
            "text/plain": [
              "<PIL.Image.Image image mode=RGB size=64x64>"
            ],
            "image/png": "[encoded data removed]"
          },
          "metadata": {},
          "execution_count": 81
        }
      ]
    }
  ]
}